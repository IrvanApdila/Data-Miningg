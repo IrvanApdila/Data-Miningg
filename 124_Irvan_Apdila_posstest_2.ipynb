{
  "cells": [
    {
      "cell_type": "markdown",
      "metadata": {
        "id": "view-in-github",
        "colab_type": "text"
      },
      "source": [
        "<a href=\"https://colab.research.google.com/github/IrvanApdila/Data-Miningg/blob/main/124_Irvan_Apdila_posstest_2.ipynb\" target=\"_parent\"><img src=\"https://colab.research.google.com/assets/colab-badge.svg\" alt=\"Open In Colab\"/></a>"
      ]
    },
    {
      "cell_type": "markdown",
      "metadata": {
        "id": "-0zOQSl3wlwj"
      },
      "source": [
        "# (1) Apriori"
      ]
    },
    {
      "cell_type": "markdown",
      "metadata": {
        "id": "h-to2rkExJxa"
      },
      "source": [
        "Gunakan dataset ini : https://drive.google.com/file/d/1BqC-2d1ZYqFIFwdjdsW5bAAqNFh2AO4C/view?usp=share_link\n",
        "\n",
        "Dan buatlah daftar support dan confidence untuk 2 item set dengan menggunakan dataset tersebut (hint : buatlah tabel tabulasi terlebih dahulu untuk memudahkan)"
      ]
    },
    {
      "cell_type": "code",
      "source": [
        "import csv\n",
        "\n",
        "# Baca dataset menggunakan csv.reader\n",
        "with open('dataset_market_basket.txt', 'r') as file:\n",
        "    reader = csv.reader(file)\n",
        "    dataset = list(reader)\n",
        "\n",
        "# Buat tabel tabulasi\n",
        "tabulasi = {}\n",
        "for transaction in dataset:\n",
        "    for item in transaction:\n",
        "        if item in tabulasi:\n",
        "            tabulasi[item] += 1\n",
        "        else:\n",
        "            tabulasi[item] = 1\n",
        "\n",
        "# Print tabel tabulasi\n",
        "for item in tabulasi:\n",
        "    print(item, ':', tabulasi[item])\n"
      ],
      "metadata": {
        "colab": {
          "base_uri": "https://localhost:8080/"
        },
        "id": "M2cGeIVeb5yT",
        "outputId": "5a6c7808-a504-4d03-868e-304ac23697e3"
      },
      "execution_count": 33,
      "outputs": [
        {
          "output_type": "stream",
          "name": "stdout",
          "text": [
            "whole milk : 5\n",
            "pastry : 1\n",
            "salty snack : 1\n",
            "sausage : 4\n",
            "semi-finished bread : 1\n",
            "yogurt : 1\n",
            "soda : 3\n",
            "pickled vegetables : 1\n",
            "canned beer : 1\n",
            "misc. beverages : 1\n",
            "hygiene articles : 1\n",
            "rolls/buns : 4\n",
            "frankfurter : 2\n",
            "whipped/sour cream : 1\n",
            "curd : 1\n",
            "beef : 1\n",
            "white bread : 1\n",
            "butter : 1\n",
            "frozen vegetables : 1\n",
            "other vegetables : 1\n",
            "tropical fruit : 1\n",
            "sugar : 1\n",
            "butter milk : 1\n",
            "specialty chocolate : 1\n",
            "frozen meals : 1\n",
            "dental care : 1\n",
            "root vegetables : 1\n",
            "detergent : 1\n",
            "dish cleaner : 1\n",
            "cling film/bags : 1\n"
          ]
        }
      ]
    },
    {
      "cell_type": "code",
      "source": [
        "\n",
        "\n",
        "# Transformasikan data menjadi format list setiap transaksi\n",
        "transactions = [set(transaction) for transaction in transactions]\n",
        "\n",
        "# Terapkan algoritma Apriori\n",
        "results = list(apriori(transactions))\n",
        "\n",
        "# Tampilkan daftar support dan confidence untuk 2 item set\n",
        "for relation_record in results:\n",
        "    items = relation_record.items\n",
        "    if len(items) == 2:\n",
        "        support = relation_record.support\n",
        "        confidence = relation_record.ordered_statistics[0].confidence\n",
        "        print(f'{items} => support: {support:.3f}, confidence: {confidence:.3f}')\n"
      ],
      "metadata": {
        "colab": {
          "base_uri": "https://localhost:8080/"
        },
        "id": "NXvU3fRIZ50R",
        "outputId": "e5757a7e-0e41-4b2b-e40e-65a7f6750072"
      },
      "execution_count": 34,
      "outputs": [
        {
          "output_type": "stream",
          "name": "stdout",
          "text": [
            "frozenset({'rolls/buns', 'sausage'}) => support: 0.105, confidence: 0.105\n",
            "frozenset({'sausage', 'whole milk'}) => support: 0.105, confidence: 0.105\n"
          ]
        }
      ]
    },
    {
      "cell_type": "markdown",
      "metadata": {
        "id": "wEgfTlH7xlgG"
      },
      "source": [
        "#(2) KNN\n",
        "\n",
        "Gunakan dataset ini : https://drive.google.com/file/d/1pXAJZZXCXosf0PTJkyogopKaPFxCYl22/view?usp=share_link\n",
        "\n",
        "Kemudian buatlah tabel jarak berdasarkan data berikut ini : \n",
        "\n",
        "![Gambar](data:image/png;base64,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)\n",
        "<!-- 1412 -->"
      ]
    },
    {
      "cell_type": "code",
      "source": [
        "import pandas as pd\n",
        "import numpy as np\n",
        "\n",
        "# Load dataset\n",
        "data = pd.read_csv('deteksi_uang_palsu.csv')\n",
        "\n",
        "\n",
        "# Membuat fungsi untuk menghitung jarak\n",
        "def hitung_jarak(data, x, y):\n",
        "    jarak = np.sqrt((data['diagonal']-x)**2 + (data['height_left']-y)**2)\n",
        "    return jarak"
      ],
      "metadata": {
        "id": "9Z8ZECH3eE9N"
      },
      "execution_count": 36,
      "outputs": []
    },
    {
      "cell_type": "code",
      "execution_count": 37,
      "metadata": {
        "id": "09vio_0B1KQk"
      },
      "outputs": [],
      "source": [
        "# 1. Tambahkan kolom jarak untuk menampilkan jarak dari dataset terhadap target prediksi\n",
        "\n",
        "# Menambahkan kolom jarak pada dataset\n",
        "data['jarak'] = hitung_jarak(data, 171, 104)"
      ]
    },
    {
      "cell_type": "code",
      "execution_count": 38,
      "metadata": {
        "id": "DgeVwMEX2JZi"
      },
      "outputs": [],
      "source": [
        "# 2. Urutkan data berdasarkan K jarak terdekat (Untuk K nya ambil akar 2 dari banyak data)\n",
        "\n",
        "# Mengurutkan data berdasarkan jarak terdekat\n",
        "k = int(np.sqrt(len(data)))\n",
        "data_sorted = data.sort_values(by=['jarak'])[:k]\n"
      ]
    },
    {
      "cell_type": "code",
      "execution_count": 41,
      "metadata": {
        "id": "JAho0GXZ2QeD",
        "colab": {
          "base_uri": "https://localhost:8080/"
        },
        "outputId": "616ba202-5a51-4593-8b74-519728e98012"
      },
      "outputs": [
        {
          "output_type": "stream",
          "name": "stdout",
          "text": [
            "Hasil prediksi: 0.5608029957124004\n"
          ]
        }
      ],
      "source": [
        "# 3. Tentukan apa hasil prediksinya berdasarkan label terbanyak\n",
        "# Menentukan label terbanyak sebagai hasil prediksi\n",
        "hasil_prediksi = data_sorted['jarak'].value_counts().idxmax()\n",
        "\n",
        "print('Hasil prediksi:', hasil_prediksi)"
      ]
    },
    {
      "cell_type": "markdown",
      "metadata": {
        "id": "F0N-LXThwiqD"
      },
      "source": [
        "# (3) Analisis"
      ]
    },
    {
      "cell_type": "markdown",
      "metadata": {
        "id": "dItRdcTguaHj"
      },
      "source": [
        "> Nama :Irvan Apdila\n",
        "\n",
        "> Nim : 2109116124\n",
        "\n",
        "> Tema : pendidikan\n",
        "\n",
        ">judul : U.S. Education Datasets: Unification Project\n"
      ]
    },
    {
      "cell_type": "markdown",
      "metadata": {
        "id": "Vbv4o0Q2uiXZ"
      },
      "source": [
        "Penjelasan posttest : \n",
        "\n",
        "Pilihlah salah satu tema dari daftar tema ini :  \n",
        "1. Perbankan\n",
        "2. Kesehatan\n",
        "3. Ritel\n",
        "4. Pendidkan\n",
        "\n",
        "Kemudian lakukan analisis dengan menggunakan struktur CRISP-DM\n",
        "\n",
        "Dimulai dari Business Understanding Hingga Data Preparation \n",
        "<img src=\"https://th.bing.com/th/id/R.f8efea41ae3cd96d86fbc5b10f81ad77?rik=K4Dr%2biIaVGvW8g&riu=http%3a%2f%2fwww.dataprix.com%2ffiles%2fCRISPDM%2fMetodologia_CRISP_DM1_html_52cdbecf.png&ehk=6ONLJMCVxE421Sjt2JJPE6MfCzrL7LLhDZQPdkJTLcw%3d&risl=&pid=ImgRaw&r=0\"/>\n",
        "\n",
        "Tentukan judul dengan ketentuan setiap orang di kelas beda-beda judulnya dan sumber datasetnya (contoh bisa prediksi atau aturan asosiasi)\n",
        "\n",
        "Catatan : Tugas ini akan berhubungan dengan posttest terakhir (pertemuan 6)"
      ]
    },
    {
      "cell_type": "markdown",
      "metadata": {
        "id": "w_CEaT9cGFn8"
      },
      "source": [
        "# **Business Understanding**\n",
        "\n",
        "**Determine Business Objective:** Menganalisis data untuk mendapatkan insight dan informasi yang dapat digunakan untuk meningkatkan kualitas pendidikan di Amerika Serikat.\n",
        "\n",
        "**Assess Situation:** Data yang digunakan dalam analisis ini merupakan gabungan dari beberapa sumber data pendidikan di Amerika Serikat, yang bertujuan untuk memudahkan akses dan penggunaan data secara komprehensif.\n",
        "\n",
        "**data Mining Goals:** Menganalisis korelasi antara faktor-faktor pendidikan dengan performa akademik siswa di Amerika Serikat, sehingga dapat memberikan informasi penting untuk perbaikan dan pengembangan sistem pendidikan di negara tersebut.\n",
        "\n",
        "**Produce Project Plan:** Membuat rencana analisis data yang terdiri dari tahap-tahap seperti data understanding, data preparation, modeling, evaluation, dan deployment."
      ]
    },
    {
      "cell_type": "markdown",
      "metadata": {
        "id": "pbAUfBAXHqVG"
      },
      "source": [
        "# **Data Understanding**"
      ]
    },
    {
      "cell_type": "code",
      "execution_count": null,
      "metadata": {
        "colab": {
          "base_uri": "https://localhost:8080/"
        },
        "id": "KJOf-2t1HkMI",
        "outputId": "3d7b50f5-e83e-4e15-fc18-68770196be8d"
      },
      "outputs": [
        {
          "name": "stdout",
          "output_type": "stream",
          "text": [
            "              YEAR        ENROLL  TOTAL_REVENUE  FEDERAL_REVENUE  \\\n",
            "count  1715.000000  1.224000e+03   1.275000e+03     1.275000e+03   \n",
            "mean   2002.075219  9.175416e+05   9.102045e+06     7.677799e+05   \n",
            "std       9.568621  1.066514e+06   1.175962e+07     1.146992e+06   \n",
            "min    1986.000000  4.386600e+04   4.656500e+05     3.102000e+04   \n",
            "25%    1994.000000  2.645145e+05   2.189504e+06     1.899575e+05   \n",
            "50%    2002.000000  6.499335e+05   5.085826e+06     4.035480e+05   \n",
            "75%    2010.000000  1.010532e+06   1.084516e+07     8.279320e+05   \n",
            "max    2019.000000  6.307022e+06   8.921726e+07     9.990221e+06   \n",
            "\n",
            "       STATE_REVENUE  LOCAL_REVENUE  TOTAL_EXPENDITURE  \\\n",
            "count   1.275000e+03   1.275000e+03       1.275000e+03   \n",
            "mean    4.223743e+06   4.110522e+06       9.206242e+06   \n",
            "std     5.549735e+06   5.489562e+06       1.199279e+07   \n",
            "min     0.000000e+00   2.209300e+04       4.816650e+05   \n",
            "25%     1.165776e+06   7.151210e+05       2.170404e+06   \n",
            "50%     2.537754e+06   2.058996e+06       5.242672e+06   \n",
            "75%     5.055548e+06   4.755293e+06       1.074420e+07   \n",
            "max     5.090457e+07   3.610526e+07       8.532013e+07   \n",
            "\n",
            "       INSTRUCTION_EXPENDITURE  SUPPORT_SERVICES_EXPENDITURE  \\\n",
            "count             1.275000e+03                  1.275000e+03   \n",
            "mean              4.768010e+06                  2.682587e+06   \n",
            "std               6.300569e+06                  3.357214e+06   \n",
            "min               2.655490e+05                  1.399630e+05   \n",
            "25%               1.171336e+06                  6.380760e+05   \n",
            "50%               2.658253e+06                  1.525471e+06   \n",
            "75%               5.561959e+06                  3.222924e+06   \n",
            "max               4.396452e+07                  2.605802e+07   \n",
            "\n",
            "       OTHER_EXPENDITURE  ...     GRADES_4_G     GRADES_8_G    GRADES_12_G  \\\n",
            "count       1.224000e+03  ...    1632.000000    1632.000000    1632.000000   \n",
            "mean        4.299509e+05  ...   69166.507966   68106.537377   58420.870711   \n",
            "std         5.347893e+05  ...   79957.990356   77965.847263   67438.530709   \n",
            "min         1.154100e+04  ...    4577.000000    3371.000000    2572.000000   \n",
            "25%         1.034492e+05  ...   18971.500000   19594.250000   16076.500000   \n",
            "50%         2.717040e+05  ...   49087.000000   47880.000000   39408.000000   \n",
            "75%         5.172222e+05  ...   78504.250000   78976.000000   69397.250000   \n",
            "max         3.995951e+06  ...  493415.000000  500143.000000  498403.000000   \n",
            "\n",
            "       GRADES_1_8_G  GRADES_9_12_G  GRADES_ALL_G  AVG_MATH_4_SCORE  \\\n",
            "count  1.020000e+03   1.071000e+03  1.632000e+03        565.000000   \n",
            "mean   5.779547e+05   2.820691e+05  9.139695e+05        236.327434   \n",
            "std    6.757837e+05   3.307098e+05  1.055893e+06          9.285505   \n",
            "min    3.769800e+04   1.353000e+04  6.844900e+04        192.000000   \n",
            "25%    1.649250e+05   8.060800e+04  2.480832e+05        232.000000   \n",
            "50%    4.051115e+05   1.869190e+05  6.458050e+05        238.000000   \n",
            "75%    6.439752e+05   3.223280e+05  1.043420e+06        242.000000   \n",
            "max    3.929869e+06   2.013687e+06  6.441557e+06        253.000000   \n",
            "\n",
            "       AVG_MATH_8_SCORE  AVG_READING_4_SCORE  AVG_READING_8_SCORE  \n",
            "count        602.000000           650.000000           562.000000  \n",
            "mean         278.280731           218.806154           263.558719  \n",
            "std           10.343482             7.681805             6.612601  \n",
            "min          231.000000           179.000000           236.000000  \n",
            "25%          272.000000           215.000000           260.000000  \n",
            "50%          280.500000           220.000000           265.000000  \n",
            "75%          286.000000           224.000000           268.000000  \n",
            "max          301.000000           237.000000           280.000000  \n",
            "\n",
            "[8 rows x 23 columns]\n"
          ]
        }
      ],
      "source": [
        "\n",
        "import pandas as pd\n",
        "\n",
        "# Membaca file CSV menggunakan Pandas\n",
        "df = pd.read_csv('states_all.csv')\n",
        "\n",
        "# Melakukan describe data\n",
        "df_desc = df.describe()\n",
        "\n",
        "# Menampilkan hasil describe data\n",
        "print(df_desc)\n"
      ]
    },
    {
      "cell_type": "code",
      "execution_count": null,
      "metadata": {
        "colab": {
          "background_save": true
        },
        "id": "ACdRTEnpJgsL",
        "outputId": "cbdd3782-6285-42ce-fe0f-6a7ceb14b19a"
      },
      "outputs": [
        {
          "name": "stdout",
          "output_type": "stream",
          "text": [
            "PRIMARY_KEY                        0\n",
            "STATE                              0\n",
            "YEAR                               0\n",
            "ENROLL                           491\n",
            "TOTAL_REVENUE                    440\n",
            "FEDERAL_REVENUE                  440\n",
            "STATE_REVENUE                    440\n",
            "LOCAL_REVENUE                    440\n",
            "TOTAL_EXPENDITURE                440\n",
            "INSTRUCTION_EXPENDITURE          440\n",
            "SUPPORT_SERVICES_EXPENDITURE     440\n",
            "OTHER_EXPENDITURE                491\n",
            "CAPITAL_OUTLAY_EXPENDITURE       440\n",
            "GRADES_PK_G                      173\n",
            "GRADES_KG_G                       83\n",
            "GRADES_4_G                        83\n",
            "GRADES_8_G                        83\n",
            "GRADES_12_G                       83\n",
            "GRADES_1_8_G                     695\n",
            "GRADES_9_12_G                    644\n",
            "GRADES_ALL_G                      83\n",
            "AVG_MATH_4_SCORE                1150\n",
            "AVG_MATH_8_SCORE                1113\n",
            "AVG_READING_4_SCORE             1065\n",
            "AVG_READING_8_SCORE             1153\n",
            "dtype: int64\n"
          ]
        }
      ],
      "source": [
        "# Melihat jumlah data yang hilang pada setiap kolom\n",
        "print(df.isnull().sum())\n"
      ]
    },
    {
      "cell_type": "code",
      "execution_count": null,
      "metadata": {
        "id": "0ev_RA77KnP9"
      },
      "outputs": [],
      "source": [
        "# Melihat tipe data pada setiap kolom\n",
        "print(df.dtypes)\n"
      ]
    },
    {
      "cell_type": "code",
      "source": [
        "# Melihat statistik deskriptif dari setiap kolom\n",
        "print(df.describe())\n"
      ],
      "metadata": {
        "colab": {
          "base_uri": "https://localhost:8080/"
        },
        "id": "LpURdwxUUCQZ",
        "outputId": "ce2b767e-7122-457a-80d7-7aea802b1057"
      },
      "execution_count": 21,
      "outputs": [
        {
          "output_type": "stream",
          "name": "stdout",
          "text": [
            "             ENROLL  TOTAL_REVENUE  FEDERAL_REVENUE  STATE_REVENUE  \\\n",
            "count  1.715000e+03   1.715000e+03     1.715000e+03   1.715000e+03   \n",
            "mean   9.175416e+05   9.102045e+06     7.677799e+05   4.223743e+06   \n",
            "std    9.008956e+05   1.013847e+07     9.888707e+05   4.784665e+06   \n",
            "min    4.386600e+04   4.656500e+05     3.102000e+04   0.000000e+00   \n",
            "25%    4.646880e+05   2.992297e+06     2.602770e+05   1.618602e+06   \n",
            "50%    9.175416e+05   8.363904e+06     6.890720e+05   3.920971e+06   \n",
            "75%    9.175416e+05   9.102045e+06     7.677799e+05   4.223743e+06   \n",
            "max    6.307022e+06   8.921726e+07     9.990221e+06   5.090457e+07   \n",
            "\n",
            "       LOCAL_REVENUE  TOTAL_EXPENDITURE  INSTRUCTION_EXPENDITURE  \\\n",
            "count   1.715000e+03       1.715000e+03             1.715000e+03   \n",
            "mean    4.110522e+06       9.206242e+06             4.768010e+06   \n",
            "std     4.732787e+06       1.033950e+07             5.431992e+06   \n",
            "min     2.209300e+04       4.816650e+05             2.655490e+05   \n",
            "25%     1.162580e+06       3.004448e+06             1.570157e+06   \n",
            "50%     3.566484e+06       8.488521e+06             4.224716e+06   \n",
            "75%     4.110522e+06       9.206242e+06             4.768010e+06   \n",
            "max     3.610526e+07       8.532013e+07             4.396452e+07   \n",
            "\n",
            "       SUPPORT_SERVICES_EXPENDITURE  OTHER_EXPENDITURE  \\\n",
            "count                  1.715000e+03       1.715000e+03   \n",
            "mean                   2.682587e+06       4.299509e+05   \n",
            "std                    2.894399e+06       4.517421e+05   \n",
            "min                    1.399630e+05       1.154100e+04   \n",
            "25%                    8.996910e+05       1.624780e+05   \n",
            "50%                    2.503616e+06       4.299509e+05   \n",
            "75%                    2.682587e+06       4.299509e+05   \n",
            "max                    2.605802e+07       3.995951e+06   \n",
            "\n",
            "       CAPITAL_OUTLAY_EXPENDITURE  ...     GRADES_8_G    GRADES_12_G  \\\n",
            "count                1.715000e+03  ...    1715.000000    1715.000000   \n",
            "mean                 9.034675e+05  ...   68106.537377   58420.870711   \n",
            "std                  1.146196e+06  ...   76054.685450   65785.422981   \n",
            "min                  1.270800e+04  ...    3371.000000    2572.000000   \n",
            "25%                  2.608130e+05  ...   20518.500000   17949.000000   \n",
            "50%                  8.285300e+05  ...   50447.000000   40774.000000   \n",
            "75%                  9.034675e+05  ...   76719.500000   68023.000000   \n",
            "max                  1.022366e+07  ...  500143.000000  498403.000000   \n",
            "\n",
            "       GRADES_1_8_G  GRADES_9_12_G  GRADES_ALL_G  AVG_MATH_4_SCORE  \\\n",
            "count  1.715000e+03   1.715000e+03  1.715000e+03       1715.000000   \n",
            "mean   5.779547e+05   2.820691e+05  9.139695e+05        236.327434   \n",
            "std    5.210620e+05   2.612965e+05  1.030010e+06          5.326473   \n",
            "min    3.769800e+04   1.353000e+04  6.844900e+04        192.000000   \n",
            "25%    3.158105e+05   1.457900e+05  2.800010e+05        236.327434   \n",
            "50%    5.779547e+05   2.820691e+05  6.809780e+05        236.327434   \n",
            "75%    5.779547e+05   2.820691e+05  1.002840e+06        236.327434   \n",
            "max    3.929869e+06   2.013687e+06  6.441557e+06        253.000000   \n",
            "\n",
            "       AVG_MATH_8_SCORE  AVG_READING_4_SCORE  AVG_READING_8_SCORE  \\\n",
            "count       1715.000000          1715.000000          1715.000000   \n",
            "mean         278.280731           218.806154           263.558719   \n",
            "std            6.124894             4.726942             3.783105   \n",
            "min          231.000000           179.000000           236.000000   \n",
            "25%          278.280731           218.806154           263.558719   \n",
            "50%          278.280731           218.806154           263.558719   \n",
            "75%          278.280731           218.806154           263.558719   \n",
            "max          301.000000           237.000000           280.000000   \n",
            "\n",
            "       AVG_TOTAL_REV_EXP  \n",
            "count       1.715000e+03  \n",
            "mean        9.154144e+06  \n",
            "std         1.023649e+07  \n",
            "min         4.736575e+05  \n",
            "25%         2.993458e+06  \n",
            "50%         8.435220e+06  \n",
            "75%         9.154144e+06  \n",
            "max         8.726870e+07  \n",
            "\n",
            "[8 rows x 23 columns]\n"
          ]
        }
      ]
    },
    {
      "cell_type": "markdown",
      "source": [
        "# **Data preparation**"
      ],
      "metadata": {
        "id": "gRjwdgLbUFy8"
      }
    },
    {
      "cell_type": "code",
      "source": [
        "\n",
        "# Memilih kolom yang relevan\n",
        "df_selected = df[['YEAR', 'STATE', 'AVG_MATH_4_SCORE', 'AVG_MATH_8_SCORE', 'AVG_READING_4_SCORE', 'AVG_READING_8_SCORE']]"
      ],
      "metadata": {
        "id": "w18ykYIBUZ4C"
      },
      "execution_count": 22,
      "outputs": []
    },
    {
      "cell_type": "code",
      "source": [
        "# mengisi nilai yang hilang dengan nilai rata-rata\n",
        "df.fillna(df.mean(), inplace=True)\n"
      ],
      "metadata": {
        "colab": {
          "base_uri": "https://localhost:8080/"
        },
        "id": "N501RUj7UriR",
        "outputId": "4d79543b-3f81-4faa-a8f8-d9078faa4b5a"
      },
      "execution_count": 23,
      "outputs": [
        {
          "output_type": "stream",
          "name": "stderr",
          "text": [
            "<ipython-input-23-17b8a3e7d618>:2: FutureWarning: Dropping of nuisance columns in DataFrame reductions (with 'numeric_only=None') is deprecated; in a future version this will raise TypeError.  Select only valid columns before calling the reduction.\n",
            "  df.fillna(df.mean(), inplace=True)\n"
          ]
        }
      ]
    },
    {
      "cell_type": "code",
      "source": [
        "# mengecek apakah ada data yang duplikat\n",
        "print(df.duplicated())\n",
        "\n",
        "# menghapus data yang duplikat\n",
        "df.drop_duplicates(inplace=True)\n"
      ],
      "metadata": {
        "colab": {
          "base_uri": "https://localhost:8080/"
        },
        "id": "QtfwqfE8Uw-p",
        "outputId": "8dabffdd-1057-4f47-81c7-440725a197f2"
      },
      "execution_count": 24,
      "outputs": [
        {
          "output_type": "stream",
          "name": "stdout",
          "text": [
            "0       False\n",
            "1       False\n",
            "2       False\n",
            "3       False\n",
            "4       False\n",
            "        ...  \n",
            "1710    False\n",
            "1711    False\n",
            "1712    False\n",
            "1713    False\n",
            "1714    False\n",
            "Length: 1715, dtype: bool\n"
          ]
        }
      ]
    },
    {
      "cell_type": "markdown",
      "source": [
        "Untuk melakukan pemeriksaan data outliers pada dataset, dapat digunakan teknik seperti box plot atau scatter plot. Setelah ditemukan data outliers, dapat dilakukan penanganan dengan menghapus atau mengganti nilai outliers dengan nilai yang lain."
      ],
      "metadata": {
        "id": "7F4q35p3VihT"
      }
    },
    {
      "cell_type": "code",
      "source": [
        "# membuat box plot\n",
        "import matplotlib.pyplot as plt\n",
        "\n",
        "plt.boxplot(df['column_name'])\n",
        "plt.show()\n"
      ],
      "metadata": {
        "id": "3V4GWB8rVgaK"
      },
      "execution_count": null,
      "outputs": []
    },
    {
      "cell_type": "code",
      "source": [
        "# Menambahkan kolom baru dengan nama \"AVG_TOTAL_REV_EXP\" yang berisi rata-rata total pendapatan dan pengeluaran sekolah\n",
        "df['AVG_TOTAL_REV_EXP'] = (df['TOTAL_REVENUE'] + df['TOTAL_EXPENDITURE']) / 2\n",
        "\n",
        "# Menampilkan 5 data pertama dari DataFrame yang telah dimodifikasi\n",
        "print(df.head())\n"
      ],
      "metadata": {
        "colab": {
          "base_uri": "https://localhost:8080/"
        },
        "id": "Y1ditmsrV41m",
        "outputId": "17ee07e8-01c8-40f7-c28a-50747eef80e3"
      },
      "execution_count": 26,
      "outputs": [
        {
          "output_type": "stream",
          "name": "stdout",
          "text": [
            "       PRIMARY_KEY       STATE  YEAR  ENROLL  TOTAL_REVENUE  FEDERAL_REVENUE  \\\n",
            "0     1992_ALABAMA     ALABAMA  1992     NaN      2678885.0         304177.0   \n",
            "1      1992_ALASKA      ALASKA  1992     NaN      1049591.0         106780.0   \n",
            "2     1992_ARIZONA     ARIZONA  1992     NaN      3258079.0         297888.0   \n",
            "3    1992_ARKANSAS    ARKANSAS  1992     NaN      1711959.0         178571.0   \n",
            "4  1992_CALIFORNIA  CALIFORNIA  1992     NaN     26260025.0        2072470.0   \n",
            "\n",
            "   STATE_REVENUE  LOCAL_REVENUE  TOTAL_EXPENDITURE  INSTRUCTION_EXPENDITURE  \\\n",
            "0      1659028.0       715680.0          2653798.0                1481703.0   \n",
            "1       720711.0       222100.0           972488.0                 498362.0   \n",
            "2      1369815.0      1590376.0          3401580.0                1435908.0   \n",
            "3       958785.0       574603.0          1743022.0                 964323.0   \n",
            "4     16546514.0      7641041.0         27138832.0               14358922.0   \n",
            "\n",
            "   ...  GRADES_8_G  GRADES_12_G  GRADES_1_8_G  GRADES_9_12_G  GRADES_ALL_G  \\\n",
            "0  ...     58025.0      41167.0           NaN            NaN      731634.0   \n",
            "1  ...      8789.0       6714.0           NaN            NaN      122487.0   \n",
            "2  ...     49081.0      37410.0           NaN            NaN      673477.0   \n",
            "3  ...     36011.0      27651.0           NaN            NaN      441490.0   \n",
            "4  ...    363296.0     270675.0           NaN            NaN     5254844.0   \n",
            "\n",
            "   AVG_MATH_4_SCORE  AVG_MATH_8_SCORE  AVG_READING_4_SCORE  \\\n",
            "0             208.0             252.0                207.0   \n",
            "1               NaN               NaN                  NaN   \n",
            "2             215.0             265.0                209.0   \n",
            "3             210.0             256.0                211.0   \n",
            "4             208.0             261.0                202.0   \n",
            "\n",
            "   AVG_READING_8_SCORE  AVG_TOTAL_REV_EXP  \n",
            "0                  NaN          2666341.5  \n",
            "1                  NaN          1011039.5  \n",
            "2                  NaN          3329829.5  \n",
            "3                  NaN          1727490.5  \n",
            "4                  NaN         26699428.5  \n",
            "\n",
            "[5 rows x 26 columns]\n"
          ]
        }
      ]
    },
    {
      "cell_type": "code",
      "execution_count": 18,
      "metadata": {
        "id": "W5yihh7wKpd9",
        "colab": {
          "base_uri": "https://localhost:8080/"
        },
        "outputId": "98a3a722-ac7d-4637-802d-aebe4a78ef6e"
      },
      "outputs": [
        {
          "output_type": "stream",
          "name": "stdout",
          "text": [
            "              YEAR        ENROLL  TOTAL_REVENUE  FEDERAL_REVENUE  \\\n",
            "count  1715.000000  1.715000e+03   1.715000e+03     1.715000e+03   \n",
            "mean   2002.075219  9.175416e+05   9.102045e+06     7.677799e+05   \n",
            "std       9.568621  9.008956e+05   1.013847e+07     9.888707e+05   \n",
            "min    1986.000000  4.386600e+04   4.656500e+05     3.102000e+04   \n",
            "25%    1994.000000  4.646880e+05   2.992297e+06     2.602770e+05   \n",
            "50%    2002.000000  9.175416e+05   8.363904e+06     6.890720e+05   \n",
            "75%    2010.000000  9.175416e+05   9.102045e+06     7.677799e+05   \n",
            "max    2019.000000  6.307022e+06   8.921726e+07     9.990221e+06   \n",
            "\n",
            "       STATE_REVENUE  LOCAL_REVENUE  TOTAL_EXPENDITURE  \\\n",
            "count   1.715000e+03   1.715000e+03       1.715000e+03   \n",
            "mean    4.223743e+06   4.110522e+06       9.206242e+06   \n",
            "std     4.784665e+06   4.732787e+06       1.033950e+07   \n",
            "min     0.000000e+00   2.209300e+04       4.816650e+05   \n",
            "25%     1.618602e+06   1.162580e+06       3.004448e+06   \n",
            "50%     3.920971e+06   3.566484e+06       8.488521e+06   \n",
            "75%     4.223743e+06   4.110522e+06       9.206242e+06   \n",
            "max     5.090457e+07   3.610526e+07       8.532013e+07   \n",
            "\n",
            "       INSTRUCTION_EXPENDITURE  SUPPORT_SERVICES_EXPENDITURE  \\\n",
            "count             1.715000e+03                  1.715000e+03   \n",
            "mean              4.768010e+06                  2.682587e+06   \n",
            "std               5.431992e+06                  2.894399e+06   \n",
            "min               2.655490e+05                  1.399630e+05   \n",
            "25%               1.570157e+06                  8.996910e+05   \n",
            "50%               4.224716e+06                  2.503616e+06   \n",
            "75%               4.768010e+06                  2.682587e+06   \n",
            "max               4.396452e+07                  2.605802e+07   \n",
            "\n",
            "       OTHER_EXPENDITURE  ...     GRADES_8_G    GRADES_12_G  GRADES_1_8_G  \\\n",
            "count       1.715000e+03  ...    1715.000000    1715.000000  1.715000e+03   \n",
            "mean        4.299509e+05  ...   68106.537377   58420.870711  5.779547e+05   \n",
            "std         4.517421e+05  ...   76054.685450   65785.422981  5.210620e+05   \n",
            "min         1.154100e+04  ...    3371.000000    2572.000000  3.769800e+04   \n",
            "25%         1.624780e+05  ...   20518.500000   17949.000000  3.158105e+05   \n",
            "50%         4.299509e+05  ...   50447.000000   40774.000000  5.779547e+05   \n",
            "75%         4.299509e+05  ...   76719.500000   68023.000000  5.779547e+05   \n",
            "max         3.995951e+06  ...  500143.000000  498403.000000  3.929869e+06   \n",
            "\n",
            "       GRADES_9_12_G  GRADES_ALL_G  AVG_MATH_4_SCORE  AVG_MATH_8_SCORE  \\\n",
            "count   1.715000e+03  1.715000e+03       1715.000000       1715.000000   \n",
            "mean    2.820691e+05  9.139695e+05        236.327434        278.280731   \n",
            "std     2.612965e+05  1.030010e+06          5.326473          6.124894   \n",
            "min     1.353000e+04  6.844900e+04        192.000000        231.000000   \n",
            "25%     1.457900e+05  2.800010e+05        236.327434        278.280731   \n",
            "50%     2.820691e+05  6.809780e+05        236.327434        278.280731   \n",
            "75%     2.820691e+05  1.002840e+06        236.327434        278.280731   \n",
            "max     2.013687e+06  6.441557e+06        253.000000        301.000000   \n",
            "\n",
            "       AVG_READING_4_SCORE  AVG_READING_8_SCORE  AVG_TOTAL_REV_EXP  \n",
            "count          1715.000000          1715.000000       1.715000e+03  \n",
            "mean            218.806154           263.558719       9.154144e+06  \n",
            "std               4.726942             3.783105       1.023649e+07  \n",
            "min             179.000000           236.000000       4.736575e+05  \n",
            "25%             218.806154           263.558719       2.993458e+06  \n",
            "50%             218.806154           263.558719       8.435220e+06  \n",
            "75%             218.806154           263.558719       9.154144e+06  \n",
            "max             237.000000           280.000000       8.726870e+07  \n",
            "\n",
            "[8 rows x 24 columns]\n"
          ]
        }
      ],
      "source": [
        "# Membaca file CSV pertama\n",
        "df1 = pd.read_csv('states_all.csv')\n",
        "\n",
        "# Membaca file CSV kedua\n",
        "df2 = pd.read_csv('states_all_extended.csv')\n",
        "\n",
        "# Menggabungkan kedua dataset berdasarkan kolom yang sama\n",
        "df_merged = pd.merge(df1, df2, on='STATE')\n",
        "\n",
        "# Melakukan describe data\n",
        "df_desc = df.describe()\n",
        "\n",
        "# Menampilkan hasil describe data\n",
        "print(df_desc)\n"
      ]
    },
    {
      "cell_type": "code",
      "source": [
        "# Melakukan format data pada kolom 'YEAR' dan 'ENROLL'\n",
        "df['YEAR'] = df['YEAR'].astype('category')\n",
        "df['ENROLL'] = pd.to_numeric(df['ENROLL'], errors='coerce')\n",
        "\n",
        "# Menampilkan informasi data setelah di-format\n",
        "print(df.info())"
      ],
      "metadata": {
        "colab": {
          "base_uri": "https://localhost:8080/"
        },
        "id": "8duVrEi9QNQq",
        "outputId": "ba5334b3-e567-4c26-c4fa-88dce55809fc"
      },
      "execution_count": 19,
      "outputs": [
        {
          "output_type": "stream",
          "name": "stdout",
          "text": [
            "<class 'pandas.core.frame.DataFrame'>\n",
            "Int64Index: 1715 entries, 0 to 1714\n",
            "Data columns (total 26 columns):\n",
            " #   Column                        Non-Null Count  Dtype   \n",
            "---  ------                        --------------  -----   \n",
            " 0   PRIMARY_KEY                   1715 non-null   object  \n",
            " 1   STATE                         1715 non-null   object  \n",
            " 2   YEAR                          1715 non-null   category\n",
            " 3   ENROLL                        1715 non-null   float64 \n",
            " 4   TOTAL_REVENUE                 1715 non-null   float64 \n",
            " 5   FEDERAL_REVENUE               1715 non-null   float64 \n",
            " 6   STATE_REVENUE                 1715 non-null   float64 \n",
            " 7   LOCAL_REVENUE                 1715 non-null   float64 \n",
            " 8   TOTAL_EXPENDITURE             1715 non-null   float64 \n",
            " 9   INSTRUCTION_EXPENDITURE       1715 non-null   float64 \n",
            " 10  SUPPORT_SERVICES_EXPENDITURE  1715 non-null   float64 \n",
            " 11  OTHER_EXPENDITURE             1715 non-null   float64 \n",
            " 12  CAPITAL_OUTLAY_EXPENDITURE    1715 non-null   float64 \n",
            " 13  GRADES_PK_G                   1715 non-null   float64 \n",
            " 14  GRADES_KG_G                   1715 non-null   float64 \n",
            " 15  GRADES_4_G                    1715 non-null   float64 \n",
            " 16  GRADES_8_G                    1715 non-null   float64 \n",
            " 17  GRADES_12_G                   1715 non-null   float64 \n",
            " 18  GRADES_1_8_G                  1715 non-null   float64 \n",
            " 19  GRADES_9_12_G                 1715 non-null   float64 \n",
            " 20  GRADES_ALL_G                  1715 non-null   float64 \n",
            " 21  AVG_MATH_4_SCORE              1715 non-null   float64 \n",
            " 22  AVG_MATH_8_SCORE              1715 non-null   float64 \n",
            " 23  AVG_READING_4_SCORE           1715 non-null   float64 \n",
            " 24  AVG_READING_8_SCORE           1715 non-null   float64 \n",
            " 25  AVG_TOTAL_REV_EXP             1715 non-null   float64 \n",
            "dtypes: category(1), float64(23), object(2)\n",
            "memory usage: 351.3+ KB\n",
            "None\n"
          ]
        }
      ]
    },
    {
      "cell_type": "code",
      "source": [
        "# Melakukan deskripsi dataset\n",
        "dataset_description = df.describe()\n",
        "\n",
        "# Menampilkan deskripsi dataset\n",
        "print(dataset_description)"
      ],
      "metadata": {
        "colab": {
          "base_uri": "https://localhost:8080/"
        },
        "id": "25Ey1Xq0RquD",
        "outputId": "06498aa4-c7cd-4168-a5b5-72c789aaef9a"
      },
      "execution_count": 20,
      "outputs": [
        {
          "output_type": "stream",
          "name": "stdout",
          "text": [
            "             ENROLL  TOTAL_REVENUE  FEDERAL_REVENUE  STATE_REVENUE  \\\n",
            "count  1.715000e+03   1.715000e+03     1.715000e+03   1.715000e+03   \n",
            "mean   9.175416e+05   9.102045e+06     7.677799e+05   4.223743e+06   \n",
            "std    9.008956e+05   1.013847e+07     9.888707e+05   4.784665e+06   \n",
            "min    4.386600e+04   4.656500e+05     3.102000e+04   0.000000e+00   \n",
            "25%    4.646880e+05   2.992297e+06     2.602770e+05   1.618602e+06   \n",
            "50%    9.175416e+05   8.363904e+06     6.890720e+05   3.920971e+06   \n",
            "75%    9.175416e+05   9.102045e+06     7.677799e+05   4.223743e+06   \n",
            "max    6.307022e+06   8.921726e+07     9.990221e+06   5.090457e+07   \n",
            "\n",
            "       LOCAL_REVENUE  TOTAL_EXPENDITURE  INSTRUCTION_EXPENDITURE  \\\n",
            "count   1.715000e+03       1.715000e+03             1.715000e+03   \n",
            "mean    4.110522e+06       9.206242e+06             4.768010e+06   \n",
            "std     4.732787e+06       1.033950e+07             5.431992e+06   \n",
            "min     2.209300e+04       4.816650e+05             2.655490e+05   \n",
            "25%     1.162580e+06       3.004448e+06             1.570157e+06   \n",
            "50%     3.566484e+06       8.488521e+06             4.224716e+06   \n",
            "75%     4.110522e+06       9.206242e+06             4.768010e+06   \n",
            "max     3.610526e+07       8.532013e+07             4.396452e+07   \n",
            "\n",
            "       SUPPORT_SERVICES_EXPENDITURE  OTHER_EXPENDITURE  \\\n",
            "count                  1.715000e+03       1.715000e+03   \n",
            "mean                   2.682587e+06       4.299509e+05   \n",
            "std                    2.894399e+06       4.517421e+05   \n",
            "min                    1.399630e+05       1.154100e+04   \n",
            "25%                    8.996910e+05       1.624780e+05   \n",
            "50%                    2.503616e+06       4.299509e+05   \n",
            "75%                    2.682587e+06       4.299509e+05   \n",
            "max                    2.605802e+07       3.995951e+06   \n",
            "\n",
            "       CAPITAL_OUTLAY_EXPENDITURE  ...     GRADES_8_G    GRADES_12_G  \\\n",
            "count                1.715000e+03  ...    1715.000000    1715.000000   \n",
            "mean                 9.034675e+05  ...   68106.537377   58420.870711   \n",
            "std                  1.146196e+06  ...   76054.685450   65785.422981   \n",
            "min                  1.270800e+04  ...    3371.000000    2572.000000   \n",
            "25%                  2.608130e+05  ...   20518.500000   17949.000000   \n",
            "50%                  8.285300e+05  ...   50447.000000   40774.000000   \n",
            "75%                  9.034675e+05  ...   76719.500000   68023.000000   \n",
            "max                  1.022366e+07  ...  500143.000000  498403.000000   \n",
            "\n",
            "       GRADES_1_8_G  GRADES_9_12_G  GRADES_ALL_G  AVG_MATH_4_SCORE  \\\n",
            "count  1.715000e+03   1.715000e+03  1.715000e+03       1715.000000   \n",
            "mean   5.779547e+05   2.820691e+05  9.139695e+05        236.327434   \n",
            "std    5.210620e+05   2.612965e+05  1.030010e+06          5.326473   \n",
            "min    3.769800e+04   1.353000e+04  6.844900e+04        192.000000   \n",
            "25%    3.158105e+05   1.457900e+05  2.800010e+05        236.327434   \n",
            "50%    5.779547e+05   2.820691e+05  6.809780e+05        236.327434   \n",
            "75%    5.779547e+05   2.820691e+05  1.002840e+06        236.327434   \n",
            "max    3.929869e+06   2.013687e+06  6.441557e+06        253.000000   \n",
            "\n",
            "       AVG_MATH_8_SCORE  AVG_READING_4_SCORE  AVG_READING_8_SCORE  \\\n",
            "count       1715.000000          1715.000000          1715.000000   \n",
            "mean         278.280731           218.806154           263.558719   \n",
            "std            6.124894             4.726942             3.783105   \n",
            "min          231.000000           179.000000           236.000000   \n",
            "25%          278.280731           218.806154           263.558719   \n",
            "50%          278.280731           218.806154           263.558719   \n",
            "75%          278.280731           218.806154           263.558719   \n",
            "max          301.000000           237.000000           280.000000   \n",
            "\n",
            "       AVG_TOTAL_REV_EXP  \n",
            "count       1.715000e+03  \n",
            "mean        9.154144e+06  \n",
            "std         1.023649e+07  \n",
            "min         4.736575e+05  \n",
            "25%         2.993458e+06  \n",
            "50%         8.435220e+06  \n",
            "75%         9.154144e+06  \n",
            "max         8.726870e+07  \n",
            "\n",
            "[8 rows x 23 columns]\n"
          ]
        }
      ]
    }
  ],
  "metadata": {
    "colab": {
      "provenance": [],
      "include_colab_link": true
    },
    "kernelspec": {
      "display_name": "Python 3",
      "name": "python3"
    },
    "language_info": {
      "name": "python"
    }
  },
  "nbformat": 4,
  "nbformat_minor": 0
}